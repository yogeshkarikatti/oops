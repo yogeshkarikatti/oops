{
  "nbformat": 4,
  "nbformat_minor": 0,
  "metadata": {
    "colab": {
      "provenance": []
    },
    "kernelspec": {
      "name": "python3",
      "display_name": "Python 3"
    },
    "language_info": {
      "name": "python"
    }
  },
  "cells": [
    {
      "cell_type": "code",
      "execution_count": null,
      "metadata": {
        "id": "e3zkpWCy54Nw"
      },
      "outputs": [],
      "source": [
        "\"\"\"Python OOPs – Theory Answers\n",
        "Object-Oriented Programming (OOP)\n",
        "A programming paradigm that organizes code into reusable objects containing both data (attributes) and functions (methods) that operate on the data.\n",
        "\n",
        "Class in OOP\n",
        "A blueprint or template for creating objects, defining their attributes and behaviors.\n",
        "\n",
        "Object in OOP\n",
        "An instance of a class with its own data stored in attributes.\n",
        "\n",
        "Difference between Abstraction and Encapsulation\n",
        "\n",
        "Abstraction: Hiding implementation details and showing only essential features.\n",
        "\n",
        "Encapsulation: Bundling data and methods into a single unit (class) and restricting access using access modifiers.\n",
        "\n",
        "Dunder Methods in Python\n",
        "Special methods with double underscores (__method__) like __init__, __str__, __add__ that customize object behavior.\n",
        "\n",
        "Inheritance in OOP\n",
        "Mechanism where one class (child) acquires properties and methods of another class (parent).\n",
        "\n",
        "Polymorphism in OOP\n",
        "The ability of different classes to respond to the same method name in different ways.\n",
        "\n",
        "Encapsulation in Python\n",
        "Achieved by making attributes private (prefix with _ or __) and controlling access via getter/setter methods.\n",
        "\n",
        "Constructor in Python\n",
        "A special method __init__() used to initialize an object when it is created.\n",
        "\n",
        "Class and Static Methods\n",
        "\n",
        "Class Method: Declared with @classmethod, takes cls as the first argument, operates on the class.\n",
        "\n",
        "Static Method: Declared with @staticmethod, takes no implicit arguments, behaves like a normal function inside a class.\n",
        "\n",
        "Method Overloading in Python\n",
        "Python does not support traditional overloading; achieved using default arguments or *args.\n",
        "\n",
        "Method Overriding in OOP\n",
        "Defining a method in a child class with the same name as in the parent class to change its behavior.\n",
        "\n",
        "Property Decorator in Python\n",
        "Used with @property to turn a method into a read-only attribute.\n",
        "\n",
        "Why Polymorphism is Important\n",
        "Increases flexibility and reusability by allowing the same interface to be used for different object types.\n",
        "\n",
        "Abstract Class in Python\n",
        "A class with one or more abstract methods (no implementation) defined using the abc module.\n",
        "\n",
        "Advantages of OOP\n",
        "\n",
        "Modularity\n",
        "\n",
        "Code Reusability\n",
        "\n",
        "Easier Maintenance\n",
        "\n",
        "Scalability\n",
        "\n",
        "Class Variable vs Instance Variable\n",
        "\n",
        "Class Variable: Shared among all instances of a class.\n",
        "\n",
        "Instance Variable: Unique to each object.\n",
        "\n",
        "Multiple Inheritance in Python\n",
        "A class inherits from more than one parent class.\n",
        "\n",
        "Purpose of __str__ and __repr__\n",
        "\n",
        "__str__: Returns a human-readable string for printing.\n",
        "\n",
        "__repr__: Returns a developer-friendly representation.\n",
        "\n",
        "Significance of super()\n",
        "Calls methods from a parent class, often used in constructors to initialize parent attributes.\n",
        "\n",
        "Significance of __del__\n",
        "Destructor method called when an object is about to be destroyed.\n",
        "\n",
        "Difference between @staticmethod and @classmethod\n",
        "\n",
        "@staticmethod: No self or cls, independent of class or instance.\n",
        "\n",
        "@classmethod: Operates on the class, receives cls.\n",
        "\n",
        "Polymorphism with Inheritance\n",
        "Methods in child classes override parent class methods, enabling different behaviors for the same method call.\n",
        "\n",
        "Method Chaining\n",
        "Returning self from a method so multiple methods can be called in a single statement.\n",
        "\n",
        "Purpose of __call__\n",
        "Allows an object to be called like a function.\"\"\""
      ]
    },
    {
      "cell_type": "code",
      "source": [
        "# -------------------------\n",
        "# Q1: Animal -> Dog (Override speak)\n",
        "# -------------------------\n",
        "class Animal:\n",
        "    def speak(self):\n",
        "        print(\"This animal makes a sound.\")\n",
        "\n",
        "class Dog(Animal):\n",
        "    def speak(self):\n",
        "        print(\"Bark!\")\n",
        "\n",
        "dog = Dog()\n",
        "dog.speak()\n",
        "\n",
        "\n",
        "# -------------------------\n",
        "# Q2: Abstract Class Shape\n",
        "# -------------------------\n",
        "from abc import ABC, abstractmethod\n",
        "\n",
        "class Shape(ABC):\n",
        "    @abstractmethod\n",
        "    def area(self):\n",
        "        pass\n",
        "\n",
        "class Circle(Shape):\n",
        "    def __init__(self, radius):\n",
        "        self.radius = radius\n",
        "    def area(self):\n",
        "        return 3.1416 * self.radius ** 2\n",
        "\n",
        "class Rectangle(Shape):\n",
        "    def __init__(self, width, height):\n",
        "        self.width = width\n",
        "        self.height = height\n",
        "    def area(self):\n",
        "        return self.width * self.height\n",
        "\n",
        "circle = Circle(5)\n",
        "rect = Rectangle(4, 6)\n",
        "print(circle.area())\n",
        "print(rect.area())\n",
        "\n",
        "\n",
        "# -------------------------\n",
        "# Q3: Multi-level Inheritance\n",
        "# -------------------------\n",
        "class Vehicle:\n",
        "    def __init__(self, vtype):\n",
        "        self.type = vtype\n",
        "\n",
        "class Car(Vehicle):\n",
        "    def __init__(self, vtype, brand):\n",
        "        super().__init__(vtype)\n",
        "        self.brand = brand\n",
        "\n",
        "class ElectricCar(Car):\n",
        "    def __init__(self, vtype, brand, battery):\n",
        "        super().__init__(vtype, brand)\n",
        "        self.battery = battery\n",
        "\n",
        "ecar = ElectricCar(\"Four-wheeler\", \"Tesla\", \"85 kWh\")\n",
        "print(ecar.type, ecar.brand, ecar.battery)\n",
        "\n",
        "\n",
        "# -------------------------\n",
        "# Q4: Polymorphism Bird\n",
        "# -------------------------\n",
        "class Bird:\n",
        "    def fly(self):\n",
        "        print(\"Some birds can fly.\")\n",
        "\n",
        "class Sparrow(Bird):\n",
        "    def fly(self):\n",
        "        print(\"Sparrow flies high.\")\n",
        "\n",
        "class Penguin(Bird):\n",
        "    def fly(self):\n",
        "        print(\"Penguins cannot fly.\")\n",
        "\n",
        "birds = [Sparrow(), Penguin()]\n",
        "for b in birds:\n",
        "    b.fly()\n",
        "\n",
        "\n",
        "# -------------------------\n",
        "# Q5: Encapsulation BankAccount\n",
        "# -------------------------\n",
        "class BankAccount:\n",
        "    def __init__(self, balance=0):\n",
        "        self.__balance = balance\n",
        "\n",
        "    def deposit(self, amount):\n",
        "        self.__balance += amount\n",
        "\n",
        "    def withdraw(self, amount):\n",
        "        if amount <= self.__balance:\n",
        "            self.__balance -= amount\n",
        "        else:\n",
        "            print(\"Insufficient balance.\")\n",
        "\n",
        "    def check_balance(self):\n",
        "        return self.__balance\n",
        "\n",
        "account = BankAccount()\n",
        "account.deposit(500)\n",
        "account.withdraw(200)\n",
        "print(account.check_balance())\n",
        "\n",
        "\n",
        "# -------------------------\n",
        "# Q6: Runtime Polymorphism Instrument\n",
        "# -------------------------\n",
        "class Instrument:\n",
        "    def play(self):\n",
        "        print(\"Instrument is playing.\")\n",
        "\n",
        "class Guitar(Instrument):\n",
        "    def play(self):\n",
        "        print(\"Strumming the guitar.\")\n",
        "\n",
        "class Piano(Instrument):\n",
        "    def play(self):\n",
        "        print(\"Playing the piano.\")\n",
        "\n",
        "for inst in [Guitar(), Piano()]:\n",
        "    inst.play()\n",
        "\n",
        "\n",
        "# -------------------------\n",
        "# Q7: Class and Static Method\n",
        "# -------------------------\n",
        "class MathOperations:\n",
        "    @classmethod\n",
        "    def add_numbers(cls, a, b):\n",
        "        return a + b\n",
        "\n",
        "    @staticmethod\n",
        "    def subtract_numbers(a, b):\n",
        "        return a - b\n",
        "\n",
        "print(MathOperations.add_numbers(10, 5))\n",
        "print(MathOperations.subtract_numbers(10, 5))\n",
        "\n",
        "\n",
        "# -------------------------\n",
        "# Q8: Person Counter\n",
        "# -------------------------\n",
        "class Person:\n",
        "    count = 0\n",
        "\n",
        "    def __init__(self, name):\n",
        "        self.name = name\n",
        "        Person.count += 1\n",
        "\n",
        "    @classmethod\n",
        "    def total_persons(cls):\n",
        "        return cls.count\n",
        "\n",
        "p1 = Person(\"Alice\")\n",
        "p2 = Person(\"Bob\")\n",
        "print(Person.total_persons())\n",
        "\n",
        "\n"
      ],
      "metadata": {
        "colab": {
          "base_uri": "https://localhost:8080/"
        },
        "id": "s_Hf-sEq5-n6",
        "outputId": "3efa2138-8605-4d32-dc2d-d3487bbba51b"
      },
      "execution_count": 1,
      "outputs": [
        {
          "output_type": "stream",
          "name": "stdout",
          "text": [
            "Bark!\n",
            "78.53999999999999\n",
            "24\n",
            "Four-wheeler Tesla 85 kWh\n",
            "Sparrow flies high.\n",
            "Penguins cannot fly.\n",
            "300\n",
            "Strumming the guitar.\n",
            "Playing the piano.\n",
            "15\n",
            "5\n",
            "2\n"
          ]
        }
      ]
    },
    {
      "cell_type": "code",
      "source": [
        "#09. Fraction (__str__)\n",
        "class Fraction:\n",
        "    def __init__(self, numerator, denominator):\n",
        "        self.numerator = numerator\n",
        "        self.denominator = denominator\n",
        "\n",
        "    def __str__(self):\n",
        "        return f\"{self.numerator}/{self.denominator}\"\n",
        "\n",
        "# Test\n",
        "f = Fraction(3, 4)\n",
        "print(f)\n"
      ],
      "metadata": {
        "colab": {
          "base_uri": "https://localhost:8080/"
        },
        "id": "ScQqoXX8A39T",
        "outputId": "7a3bf210-be9e-4536-9d40-3f418d866f9f"
      },
      "execution_count": 3,
      "outputs": [
        {
          "output_type": "stream",
          "name": "stdout",
          "text": [
            "3/4\n"
          ]
        }
      ]
    },
    {
      "cell_type": "code",
      "source": [
        "#10.Vector Addition (Operator Overloading)\n",
        "class Vector:\n",
        "    def __init__(self, x, y):\n",
        "        self.x = x\n",
        "        self.y = y\n",
        "\n",
        "    def __add__(self, other):\n",
        "        return Vector(self.x + other.x, self.y + other.y)\n",
        "\n",
        "    def __str__(self):\n",
        "        return f\"Vector({self.x}, {self.y})\"\n",
        "\n",
        "# Test\n",
        "v1 = Vector(2, 3)\n",
        "v2 = Vector(4, 5)\n",
        "print(v1 + v2)\n"
      ],
      "metadata": {
        "colab": {
          "base_uri": "https://localhost:8080/"
        },
        "id": "RLO3Gz6ZBHNN",
        "outputId": "1b0d64bf-1961-4678-bec0-c5f19327bc74"
      },
      "execution_count": 4,
      "outputs": [
        {
          "output_type": "stream",
          "name": "stdout",
          "text": [
            "Vector(6, 8)\n"
          ]
        }
      ]
    },
    {
      "cell_type": "code",
      "source": [
        "#11.class Person:\n",
        "\n",
        "    def __init__(self, name, age):\n",
        "        self.name = name\n",
        "        self.age = age\n",
        "\n",
        "    def greet(self):\n",
        "        print(f\"Hello, my name is {self.name} and I am {self.age} years old.\")\n",
        "\n",
        "# Test\n",
        "p = Person(\"John\", 25)\n",
        "p.greet()"
      ],
      "metadata": {
        "colab": {
          "base_uri": "https://localhost:8080/",
          "height": 106
        },
        "id": "muyqU6RrBQdV",
        "outputId": "4a8f555c-eaed-4bae-e343-25d71076775d"
      },
      "execution_count": 6,
      "outputs": [
        {
          "output_type": "error",
          "ename": "IndentationError",
          "evalue": "unexpected indent (ipython-input-3022844162.py, line 3)",
          "traceback": [
            "\u001b[0;36m  File \u001b[0;32m\"/tmp/ipython-input-3022844162.py\"\u001b[0;36m, line \u001b[0;32m3\u001b[0m\n\u001b[0;31m    def __init__(self, name, age):\u001b[0m\n\u001b[0m    ^\u001b[0m\n\u001b[0;31mIndentationError\u001b[0m\u001b[0;31m:\u001b[0m unexpected indent\n"
          ]
        }
      ]
    },
    {
      "cell_type": "code",
      "source": [
        "#12. Student Average Grade\n",
        "class Student:\n",
        "    def __init__(self, name, grades):\n",
        "        self.name = name\n",
        "        self.grades = grades\n",
        "\n",
        "    def average_grade(self):\n",
        "        return sum(self.grades) / len(self.grades)\n",
        "\n",
        "# Test\n",
        "s = Student(\"Emma\", [85, 90, 78])\n",
        "print(\"Average Grade:\", s.average_grade())\n",
        "\n"
      ],
      "metadata": {
        "colab": {
          "base_uri": "https://localhost:8080/"
        },
        "id": "dyBJ5lFvE306",
        "outputId": "1df4d755-7a96-4fe0-eb01-666204c5f095"
      },
      "execution_count": 7,
      "outputs": [
        {
          "output_type": "stream",
          "name": "stdout",
          "text": [
            "Average Grade: 84.33333333333333\n"
          ]
        }
      ]
    },
    {
      "cell_type": "code",
      "source": [
        "#13 Rectangle Dimensions & Area\n",
        "class Rectangle:\n",
        "    def set_dimensions(self, width, height):\n",
        "        self.width = width\n",
        "        self.height = height\n",
        "\n",
        "    def area(self):\n",
        "        return self.width * self.height\n",
        "\n",
        "# Test\n",
        "r = Rectangle()\n",
        "r.set_dimensions(5, 10)\n",
        "print(\"Area:\", r.area())\n"
      ],
      "metadata": {
        "colab": {
          "base_uri": "https://localhost:8080/"
        },
        "id": "B4nigHOBFB7c",
        "outputId": "1b84171c-fc6c-4d83-e9d6-d6de5cc47113"
      },
      "execution_count": 8,
      "outputs": [
        {
          "output_type": "stream",
          "name": "stdout",
          "text": [
            "Area: 50\n"
          ]
        }
      ]
    },
    {
      "cell_type": "code",
      "source": [
        "#14Employee & Manager Salary\n",
        "class Employee:\n",
        "    def calculate_salary(self, hours_worked, hourly_rate):\n",
        "        return hours_worked * hourly_rate\n",
        "\n",
        "class Manager(Employee):\n",
        "    def calculate_salary(self, hours_worked, hourly_rate, bonus):\n",
        "        return super().calculate_salary(hours_worked, hourly_rate) + bonus\n",
        "\n",
        "# Test\n",
        "m = Manager()\n",
        "print(\"Manager Salary:\", m.calculate_salary(40, 50, 500))\n"
      ],
      "metadata": {
        "colab": {
          "base_uri": "https://localhost:8080/"
        },
        "id": "2mtnhv2fFKG9",
        "outputId": "b7547c5a-1a18-44ce-ab08-c9a4f451ac90"
      },
      "execution_count": 9,
      "outputs": [
        {
          "output_type": "stream",
          "name": "stdout",
          "text": [
            "Manager Salary: 2500\n"
          ]
        }
      ]
    },
    {
      "cell_type": "code",
      "source": [
        "#15 Product Total Price\n",
        "class Product:\n",
        "    def __init__(self, name, price, quantity):\n",
        "        self.name = name\n",
        "        self.price = price\n",
        "        self.quantity = quantity\n",
        "\n",
        "    def total_price(self):\n",
        "        return self.price * self.quantity\n",
        "\n",
        "# Test\n",
        "p = Product(\"Laptop\", 800, 2)\n",
        "print(\"Total Price:\", p.total_price())\n"
      ],
      "metadata": {
        "colab": {
          "base_uri": "https://localhost:8080/"
        },
        "id": "M6MmfMh4FZEt",
        "outputId": "062c48dc-952b-4c57-b8ed-bc79103262a0"
      },
      "execution_count": 10,
      "outputs": [
        {
          "output_type": "stream",
          "name": "stdout",
          "text": [
            "Total Price: 1600\n"
          ]
        }
      ]
    },
    {
      "cell_type": "code",
      "source": [
        "#16.Animal, Cow & Sheep (Abstract Method)\n",
        "from abc import ABC, abstractmethod\n",
        "\n",
        "class Animal(ABC):\n",
        "    @abstractmethod\n",
        "    def sound(self):\n",
        "        pass\n",
        "\n",
        "class Cow(Animal):\n",
        "    def sound(self):\n",
        "        print(\"Moo\")\n",
        "\n",
        "class Sheep(Animal):\n",
        "    def sound(self):\n",
        "        print(\"Baa\")\n",
        "\n",
        "# Test\n",
        "Cow().sound()\n",
        "Sheep().sound()\n"
      ],
      "metadata": {
        "colab": {
          "base_uri": "https://localhost:8080/"
        },
        "id": "7AoVp25MFgbs",
        "outputId": "da216fbd-bdd2-4519-e079-43ae85337b20"
      },
      "execution_count": 11,
      "outputs": [
        {
          "output_type": "stream",
          "name": "stdout",
          "text": [
            "Moo\n",
            "Baa\n"
          ]
        }
      ]
    },
    {
      "cell_type": "code",
      "source": [
        "#17. Book Info\n",
        "class Book:\n",
        "    def __init__(self, title, author, year_published):\n",
        "        self.title = title\n",
        "        self.author = author\n",
        "        self.year_published = year_published\n",
        "\n",
        "    def get_book_info(self):\n",
        "        return f\"'{self.title}' by {self.author}, published in {self.year_published}\"\n",
        "\n",
        "# Test\n",
        "b = Book(\"1984\", \"George Orwell\", 1949)\n",
        "print(b.get_book_info())\n"
      ],
      "metadata": {
        "colab": {
          "base_uri": "https://localhost:8080/"
        },
        "id": "5KCD1tyiFzRQ",
        "outputId": "9859cc4a-f1c1-4936-d2ef-81a5e5d30b2f"
      },
      "execution_count": 12,
      "outputs": [
        {
          "output_type": "stream",
          "name": "stdout",
          "text": [
            "'1984' by George Orwell, published in 1949\n"
          ]
        }
      ]
    },
    {
      "cell_type": "code",
      "source": [
        "#18.House & Mansion\n",
        "class House:\n",
        "    def __init__(self, address, price):\n",
        "        self.address = address\n",
        "        self.price = price\n",
        "\n",
        "class Mansion(House):\n",
        "    def __init__(self, address, price, number_of_rooms):\n",
        "        super().__init__(address, price)\n",
        "        self.number_of_rooms = number_of_rooms\n",
        "\n",
        "# Test\n",
        "m = Mansion(\"123 Luxury St\", 5000000, 10)\n",
        "print(m.address, m.price, m.number_of_rooms)\n"
      ],
      "metadata": {
        "colab": {
          "base_uri": "https://localhost:8080/"
        },
        "id": "CpxcRUMrF8UP",
        "outputId": "7d8bb4d9-ad76-42cb-bb28-040b39773072"
      },
      "execution_count": 13,
      "outputs": [
        {
          "output_type": "stream",
          "name": "stdout",
          "text": [
            "123 Luxury St 5000000 10\n"
          ]
        }
      ]
    }
  ]
}